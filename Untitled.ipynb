{
 "cells": [
  {
   "cell_type": "code",
   "execution_count": 1,
   "id": "c4ae171e",
   "metadata": {},
   "outputs": [],
   "source": [
    "import pandas as pd"
   ]
  },
  {
   "cell_type": "code",
   "execution_count": 3,
   "id": "b0112d71",
   "metadata": {},
   "outputs": [],
   "source": [
    "file = open(\"zomato.csv\",\"r\")"
   ]
  },
  {
   "cell_type": "code",
   "execution_count": 4,
   "id": "73067f05",
   "metadata": {},
   "outputs": [],
   "source": [
    "data = file.read()"
   ]
  },
  {
   "cell_type": "code",
   "execution_count": 7,
   "id": "38b900d5",
   "metadata": {},
   "outputs": [],
   "source": [
    "data = data.replace(\", \",\",\")"
   ]
  },
  {
   "cell_type": "code",
   "execution_count": 8,
   "id": "08bd81c3",
   "metadata": {},
   "outputs": [],
   "source": [
    "new_file = open(\"zomato_new.csv\",\"w\")"
   ]
  },
  {
   "cell_type": "code",
   "execution_count": 10,
   "id": "3dac3091",
   "metadata": {},
   "outputs": [
    {
     "data": {
      "text/plain": [
       "18021417"
      ]
     },
     "execution_count": 10,
     "metadata": {},
     "output_type": "execute_result"
    }
   ],
   "source": [
    "new_file.write(data)"
   ]
  },
  {
   "cell_type": "code",
   "execution_count": 11,
   "id": "7724649f",
   "metadata": {},
   "outputs": [],
   "source": [
    "new_file.close()"
   ]
  },
  {
   "cell_type": "code",
   "execution_count": 12,
   "id": "4d5f36a6",
   "metadata": {},
   "outputs": [],
   "source": [
    "data = pd.read_csv(\"zomato_new.csv\")"
   ]
  },
  {
   "cell_type": "code",
   "execution_count": 39,
   "id": "b814b46f",
   "metadata": {},
   "outputs": [
    {
     "data": {
      "text/html": [
       "<div>\n",
       "<style scoped>\n",
       "    .dataframe tbody tr th:only-of-type {\n",
       "        vertical-align: middle;\n",
       "    }\n",
       "\n",
       "    .dataframe tbody tr th {\n",
       "        vertical-align: top;\n",
       "    }\n",
       "\n",
       "    .dataframe thead th {\n",
       "        text-align: right;\n",
       "    }\n",
       "</style>\n",
       "<table border=\"1\" class=\"dataframe\">\n",
       "  <thead>\n",
       "    <tr style=\"text-align: right;\">\n",
       "      <th></th>\n",
       "      <th>address</th>\n",
       "      <th>name</th>\n",
       "      <th>online_order</th>\n",
       "      <th>book_table</th>\n",
       "      <th>rate</th>\n",
       "      <th>votes</th>\n",
       "      <th>phone</th>\n",
       "      <th>location</th>\n",
       "      <th>rest_type</th>\n",
       "      <th>dish_liked</th>\n",
       "      <th>cuisines</th>\n",
       "      <th>approx_cost(for two people)</th>\n",
       "      <th>listed_in(type)</th>\n",
       "    </tr>\n",
       "  </thead>\n",
       "  <tbody>\n",
       "    <tr>\n",
       "      <th>0</th>\n",
       "      <td>942,21st Main Road,2nd Stage,Banashankari,Bang...</td>\n",
       "      <td>Jalsa</td>\n",
       "      <td>Yes</td>\n",
       "      <td>Yes</td>\n",
       "      <td>4.1/5</td>\n",
       "      <td>775</td>\n",
       "      <td>080 42297555\\n+91 9743772233</td>\n",
       "      <td>Banashankari</td>\n",
       "      <td>Casual Dining</td>\n",
       "      <td>Pasta,Lunch Buffet,Masala Papad,Paneer Lajawab...</td>\n",
       "      <td>North Indian,Mughlai,Chinese</td>\n",
       "      <td>800</td>\n",
       "      <td>Buffet</td>\n",
       "    </tr>\n",
       "    <tr>\n",
       "      <th>1</th>\n",
       "      <td>2nd Floor,80 Feet Road,Near Big Bazaar,6th Blo...</td>\n",
       "      <td>Spice Elephant</td>\n",
       "      <td>Yes</td>\n",
       "      <td>No</td>\n",
       "      <td>4.1/5</td>\n",
       "      <td>787</td>\n",
       "      <td>080 41714161</td>\n",
       "      <td>Banashankari</td>\n",
       "      <td>Casual Dining</td>\n",
       "      <td>Momos,Lunch Buffet,Chocolate Nirvana,Thai Gree...</td>\n",
       "      <td>Chinese,North Indian,Thai</td>\n",
       "      <td>800</td>\n",
       "      <td>Buffet</td>\n",
       "    </tr>\n",
       "    <tr>\n",
       "      <th>2</th>\n",
       "      <td>1112,Next to KIMS Medical College,17th Cross,2...</td>\n",
       "      <td>San Churro Cafe</td>\n",
       "      <td>Yes</td>\n",
       "      <td>No</td>\n",
       "      <td>3.8/5</td>\n",
       "      <td>918</td>\n",
       "      <td>+91 9663487993</td>\n",
       "      <td>Banashankari</td>\n",
       "      <td>Cafe,Casual Dining</td>\n",
       "      <td>Churros,Cannelloni,Minestrone Soup,Hot Chocola...</td>\n",
       "      <td>Cafe,Mexican,Italian</td>\n",
       "      <td>800</td>\n",
       "      <td>Buffet</td>\n",
       "    </tr>\n",
       "    <tr>\n",
       "      <th>3</th>\n",
       "      <td>1st Floor,Annakuteera,3rd Stage,Banashankari,B...</td>\n",
       "      <td>Addhuri Udupi Bhojana</td>\n",
       "      <td>No</td>\n",
       "      <td>No</td>\n",
       "      <td>3.7/5</td>\n",
       "      <td>88</td>\n",
       "      <td>+91 9620009302</td>\n",
       "      <td>Banashankari</td>\n",
       "      <td>Quick Bites</td>\n",
       "      <td>Masala Dosa</td>\n",
       "      <td>South Indian,North Indian</td>\n",
       "      <td>300</td>\n",
       "      <td>Buffet</td>\n",
       "    </tr>\n",
       "    <tr>\n",
       "      <th>4</th>\n",
       "      <td>10,3rd Floor,Lakshmi Associates,Gandhi Bazaar ...</td>\n",
       "      <td>Grand Village</td>\n",
       "      <td>No</td>\n",
       "      <td>No</td>\n",
       "      <td>3.8/5</td>\n",
       "      <td>166</td>\n",
       "      <td>+91 8026612447\\n+91 9901210005</td>\n",
       "      <td>Basavanagudi</td>\n",
       "      <td>Casual Dining</td>\n",
       "      <td>Panipuri,Gol Gappe</td>\n",
       "      <td>North Indian,Rajasthani</td>\n",
       "      <td>600</td>\n",
       "      <td>Buffet</td>\n",
       "    </tr>\n",
       "    <tr>\n",
       "      <th>...</th>\n",
       "      <td>...</td>\n",
       "      <td>...</td>\n",
       "      <td>...</td>\n",
       "      <td>...</td>\n",
       "      <td>...</td>\n",
       "      <td>...</td>\n",
       "      <td>...</td>\n",
       "      <td>...</td>\n",
       "      <td>...</td>\n",
       "      <td>...</td>\n",
       "      <td>...</td>\n",
       "      <td>...</td>\n",
       "      <td>...</td>\n",
       "    </tr>\n",
       "    <tr>\n",
       "      <th>56247</th>\n",
       "      <td>Four Points by Sheraton Bengaluru,43/3,Whitefi...</td>\n",
       "      <td>Best Brews - Four Points by Sheraton Bengaluru...</td>\n",
       "      <td>No</td>\n",
       "      <td>No</td>\n",
       "      <td>3.6 /5</td>\n",
       "      <td>27</td>\n",
       "      <td>080 40301477</td>\n",
       "      <td>Whitefield</td>\n",
       "      <td>Bar</td>\n",
       "      <td>NaN</td>\n",
       "      <td>Continental</td>\n",
       "      <td>1,500</td>\n",
       "      <td>Pubs and bars</td>\n",
       "    </tr>\n",
       "    <tr>\n",
       "      <th>56248</th>\n",
       "      <td>Number 10,Garudachar Palya,Mahadevapura,Whitef...</td>\n",
       "      <td>Vinod Bar And Restaurant</td>\n",
       "      <td>No</td>\n",
       "      <td>No</td>\n",
       "      <td>NaN</td>\n",
       "      <td>0</td>\n",
       "      <td>+91 8197675843</td>\n",
       "      <td>Whitefield</td>\n",
       "      <td>Bar</td>\n",
       "      <td>NaN</td>\n",
       "      <td>Finger Food</td>\n",
       "      <td>600</td>\n",
       "      <td>Pubs and bars</td>\n",
       "    </tr>\n",
       "    <tr>\n",
       "      <th>56249</th>\n",
       "      <td>Sheraton Grand Bengaluru Whitefield Hotel &amp; Co...</td>\n",
       "      <td>Plunge - Sheraton Grand Bengaluru Whitefield H...</td>\n",
       "      <td>No</td>\n",
       "      <td>No</td>\n",
       "      <td>NaN</td>\n",
       "      <td>0</td>\n",
       "      <td>NaN</td>\n",
       "      <td>Whitefield</td>\n",
       "      <td>Bar</td>\n",
       "      <td>NaN</td>\n",
       "      <td>Finger Food</td>\n",
       "      <td>2,000</td>\n",
       "      <td>Pubs and bars</td>\n",
       "    </tr>\n",
       "    <tr>\n",
       "      <th>56250</th>\n",
       "      <td>Sheraton Grand Bengaluru Whitefield Hotel &amp; Co...</td>\n",
       "      <td>Chime - Sheraton Grand Bengaluru Whitefield Ho...</td>\n",
       "      <td>No</td>\n",
       "      <td>Yes</td>\n",
       "      <td>4.3 /5</td>\n",
       "      <td>236</td>\n",
       "      <td>080 49652769</td>\n",
       "      <td>ITPL Main Road,Whitefield</td>\n",
       "      <td>Bar</td>\n",
       "      <td>Cocktails,Pizza,Buttermilk</td>\n",
       "      <td>Finger Food</td>\n",
       "      <td>2,500</td>\n",
       "      <td>Pubs and bars</td>\n",
       "    </tr>\n",
       "    <tr>\n",
       "      <th>56251</th>\n",
       "      <td>ITPL Main Road,KIADB Export Promotion Industri...</td>\n",
       "      <td>The Nest - The Den Bengaluru</td>\n",
       "      <td>No</td>\n",
       "      <td>No</td>\n",
       "      <td>3.4 /5</td>\n",
       "      <td>13</td>\n",
       "      <td>+91 8071117272</td>\n",
       "      <td>ITPL Main Road,Whitefield</td>\n",
       "      <td>Bar,Casual Dining</td>\n",
       "      <td>NaN</td>\n",
       "      <td>Finger Food,North Indian,Continental</td>\n",
       "      <td>1,500</td>\n",
       "      <td>Pubs and bars</td>\n",
       "    </tr>\n",
       "  </tbody>\n",
       "</table>\n",
       "<p>56252 rows × 13 columns</p>\n",
       "</div>"
      ],
      "text/plain": [
       "                                                 address  \\\n",
       "0      942,21st Main Road,2nd Stage,Banashankari,Bang...   \n",
       "1      2nd Floor,80 Feet Road,Near Big Bazaar,6th Blo...   \n",
       "2      1112,Next to KIMS Medical College,17th Cross,2...   \n",
       "3      1st Floor,Annakuteera,3rd Stage,Banashankari,B...   \n",
       "4      10,3rd Floor,Lakshmi Associates,Gandhi Bazaar ...   \n",
       "...                                                  ...   \n",
       "56247  Four Points by Sheraton Bengaluru,43/3,Whitefi...   \n",
       "56248  Number 10,Garudachar Palya,Mahadevapura,Whitef...   \n",
       "56249  Sheraton Grand Bengaluru Whitefield Hotel & Co...   \n",
       "56250  Sheraton Grand Bengaluru Whitefield Hotel & Co...   \n",
       "56251  ITPL Main Road,KIADB Export Promotion Industri...   \n",
       "\n",
       "                                                    name online_order  \\\n",
       "0                                                  Jalsa          Yes   \n",
       "1                                         Spice Elephant          Yes   \n",
       "2                                        San Churro Cafe          Yes   \n",
       "3                                  Addhuri Udupi Bhojana           No   \n",
       "4                                          Grand Village           No   \n",
       "...                                                  ...          ...   \n",
       "56247  Best Brews - Four Points by Sheraton Bengaluru...           No   \n",
       "56248                           Vinod Bar And Restaurant           No   \n",
       "56249  Plunge - Sheraton Grand Bengaluru Whitefield H...           No   \n",
       "56250  Chime - Sheraton Grand Bengaluru Whitefield Ho...           No   \n",
       "56251                       The Nest - The Den Bengaluru           No   \n",
       "\n",
       "      book_table    rate votes                           phone  \\\n",
       "0            Yes   4.1/5   775    080 42297555\\n+91 9743772233   \n",
       "1             No   4.1/5   787                    080 41714161   \n",
       "2             No   3.8/5   918                  +91 9663487993   \n",
       "3             No   3.7/5    88                  +91 9620009302   \n",
       "4             No   3.8/5   166  +91 8026612447\\n+91 9901210005   \n",
       "...          ...     ...   ...                             ...   \n",
       "56247         No  3.6 /5    27                    080 40301477   \n",
       "56248         No     NaN     0                  +91 8197675843   \n",
       "56249         No     NaN     0                             NaN   \n",
       "56250        Yes  4.3 /5   236                    080 49652769   \n",
       "56251         No  3.4 /5    13                  +91 8071117272   \n",
       "\n",
       "                        location           rest_type  \\\n",
       "0                   Banashankari       Casual Dining   \n",
       "1                   Banashankari       Casual Dining   \n",
       "2                   Banashankari  Cafe,Casual Dining   \n",
       "3                   Banashankari         Quick Bites   \n",
       "4                   Basavanagudi       Casual Dining   \n",
       "...                          ...                 ...   \n",
       "56247                 Whitefield                 Bar   \n",
       "56248                 Whitefield                 Bar   \n",
       "56249                 Whitefield                 Bar   \n",
       "56250  ITPL Main Road,Whitefield                 Bar   \n",
       "56251  ITPL Main Road,Whitefield   Bar,Casual Dining   \n",
       "\n",
       "                                              dish_liked  \\\n",
       "0      Pasta,Lunch Buffet,Masala Papad,Paneer Lajawab...   \n",
       "1      Momos,Lunch Buffet,Chocolate Nirvana,Thai Gree...   \n",
       "2      Churros,Cannelloni,Minestrone Soup,Hot Chocola...   \n",
       "3                                            Masala Dosa   \n",
       "4                                     Panipuri,Gol Gappe   \n",
       "...                                                  ...   \n",
       "56247                                                NaN   \n",
       "56248                                                NaN   \n",
       "56249                                                NaN   \n",
       "56250                         Cocktails,Pizza,Buttermilk   \n",
       "56251                                                NaN   \n",
       "\n",
       "                                   cuisines approx_cost(for two people)  \\\n",
       "0              North Indian,Mughlai,Chinese                         800   \n",
       "1                 Chinese,North Indian,Thai                         800   \n",
       "2                      Cafe,Mexican,Italian                         800   \n",
       "3                 South Indian,North Indian                         300   \n",
       "4                   North Indian,Rajasthani                         600   \n",
       "...                                     ...                         ...   \n",
       "56247                           Continental                       1,500   \n",
       "56248                           Finger Food                         600   \n",
       "56249                           Finger Food                       2,000   \n",
       "56250                           Finger Food                       2,500   \n",
       "56251  Finger Food,North Indian,Continental                       1,500   \n",
       "\n",
       "      listed_in(type)  \n",
       "0              Buffet  \n",
       "1              Buffet  \n",
       "2              Buffet  \n",
       "3              Buffet  \n",
       "4              Buffet  \n",
       "...               ...  \n",
       "56247   Pubs and bars  \n",
       "56248   Pubs and bars  \n",
       "56249   Pubs and bars  \n",
       "56250   Pubs and bars  \n",
       "56251   Pubs and bars  \n",
       "\n",
       "[56252 rows x 13 columns]"
      ]
     },
     "execution_count": 39,
     "metadata": {},
     "output_type": "execute_result"
    }
   ],
   "source": [
    "data"
   ]
  },
  {
   "cell_type": "code",
   "execution_count": 42,
   "id": "fa518ca9",
   "metadata": {},
   "outputs": [
    {
     "data": {
      "text/plain": [
       "array(['4.1/5', '3.8/5', '3.7/5', ...,\n",
       "       \"but we weren't blown away. It was\",\n",
       "       \"also a slightly larger portion size wud be much appreciated...\\\\n\\\\nService - 5/10\\\\n\\\\nReally needs a lot of tweak up... the waiters are never to be found on the floor... they lack knowledge of dishes... very uninviting overall...\\\\n\\\\nOverall not a grt experience :(')\",\n",
       "       'small place '], dtype=object)"
      ]
     },
     "execution_count": 42,
     "metadata": {},
     "output_type": "execute_result"
    }
   ],
   "source": [
    "data[\"rate\"].unique()"
   ]
  },
  {
   "cell_type": "code",
   "execution_count": 16,
   "id": "216be23d",
   "metadata": {},
   "outputs": [],
   "source": [
    "rating = data[\"rate\"].unique()"
   ]
  },
  {
   "cell_type": "code",
   "execution_count": 17,
   "id": "9bd810eb",
   "metadata": {},
   "outputs": [
    {
     "data": {
      "text/plain": [
       "array(['4.1/5', '3.8/5', '3.7/5', ...,\n",
       "       \"but we weren't blown away. It was\",\n",
       "       \"also a slightly larger portion size wud be much appreciated...\\\\n\\\\nService - 5/10\\\\n\\\\nReally needs a lot of tweak up... the waiters are never to be found on the floor... they lack knowledge of dishes... very uninviting overall...\\\\n\\\\nOverall not a grt experience :(')\",\n",
       "       'small place '], dtype=object)"
      ]
     },
     "execution_count": 17,
     "metadata": {},
     "output_type": "execute_result"
    }
   ],
   "source": [
    "rating"
   ]
  },
  {
   "cell_type": "code",
   "execution_count": 27,
   "id": "72aabaf5",
   "metadata": {},
   "outputs": [
    {
     "data": {
      "text/plain": [
       "4.1"
      ]
     },
     "execution_count": 27,
     "metadata": {},
     "output_type": "execute_result"
    }
   ],
   "source": [
    "float(rating[0].split(\"/\")[0])"
   ]
  },
  {
   "cell_type": "code",
   "execution_count": 32,
   "id": "9b8fffc1",
   "metadata": {},
   "outputs": [],
   "source": [
    "try:\n",
    "    floats = []\n",
    "    strings = []\n",
    "    for i in rating:\n",
    "        _ = float(i.split(\"/\")[0])\n",
    "        floats.append(i)\n",
    "except:\n",
    "    pass"
   ]
  },
  {
   "cell_type": "code",
   "execution_count": 22,
   "id": "b700a53b",
   "metadata": {},
   "outputs": [
    {
     "data": {
      "text/plain": [
       "2876"
      ]
     },
     "execution_count": 22,
     "metadata": {},
     "output_type": "execute_result"
    }
   ],
   "source": [
    "len(rating)"
   ]
  },
  {
   "cell_type": "code",
   "execution_count": 30,
   "id": "0635ba1e",
   "metadata": {},
   "outputs": [
    {
     "data": {
      "text/plain": [
       "1"
      ]
     },
     "execution_count": 30,
     "metadata": {},
     "output_type": "execute_result"
    }
   ],
   "source": [
    "len(strings)"
   ]
  },
  {
   "cell_type": "code",
   "execution_count": 33,
   "id": "9ef246a9",
   "metadata": {},
   "outputs": [
    {
     "data": {
      "text/plain": [
       "6"
      ]
     },
     "execution_count": 33,
     "metadata": {},
     "output_type": "execute_result"
    }
   ],
   "source": [
    "len(floats)"
   ]
  },
  {
   "cell_type": "code",
   "execution_count": 34,
   "id": "281acf12",
   "metadata": {},
   "outputs": [
    {
     "data": {
      "text/plain": [
       "['4.1/5', '3.8/5', '3.7/5', '3.6/5', '4.6/5', '4.0/5']"
      ]
     },
     "execution_count": 34,
     "metadata": {},
     "output_type": "execute_result"
    }
   ],
   "source": [
    "floats"
   ]
  },
  {
   "cell_type": "code",
   "execution_count": 31,
   "id": "8e0b368c",
   "metadata": {},
   "outputs": [
    {
     "data": {
      "text/plain": [
       "['small place ']"
      ]
     },
     "execution_count": 31,
     "metadata": {},
     "output_type": "execute_result"
    }
   ],
   "source": [
    "strings"
   ]
  },
  {
   "cell_type": "code",
   "execution_count": 37,
   "id": "799d4a3c",
   "metadata": {},
   "outputs": [
    {
     "data": {
      "text/plain": [
       "2870"
      ]
     },
     "execution_count": 37,
     "metadata": {},
     "output_type": "execute_result"
    }
   ],
   "source": [
    "len(set(rating)-set(floats))"
   ]
  },
  {
   "cell_type": "code",
   "execution_count": 38,
   "id": "ab6e3eae",
   "metadata": {},
   "outputs": [
    {
     "ename": "SyntaxError",
     "evalue": "invalid syntax (1320648037.py, line 1)",
     "output_type": "error",
     "traceback": [
      "\u001b[0;36m  Cell \u001b[0;32mIn[38], line 1\u001b[0;36m\u001b[0m\n\u001b[0;31m    new_data = data.drop(data[\"rating\"] is not in floats)\u001b[0m\n\u001b[0m                                               ^\u001b[0m\n\u001b[0;31mSyntaxError\u001b[0m\u001b[0;31m:\u001b[0m invalid syntax\n"
     ]
    }
   ],
   "source": [
    "new_data = data.drop()"
   ]
  },
  {
   "cell_type": "code",
   "execution_count": null,
   "id": "dc36e48a",
   "metadata": {},
   "outputs": [],
   "source": [
    "## prediction model which will tell the sentimebt of the statement- ---> 3\n",
    "\n",
    "\n",
    "\n",
    "\"Not bad\""
   ]
  }
 ],
 "metadata": {
  "kernelspec": {
   "display_name": "Python 3 (ipykernel)",
   "language": "python",
   "name": "python3"
  },
  "language_info": {
   "codemirror_mode": {
    "name": "ipython",
    "version": 3
   },
   "file_extension": ".py",
   "mimetype": "text/x-python",
   "name": "python",
   "nbconvert_exporter": "python",
   "pygments_lexer": "ipython3",
   "version": "3.8.10"
  }
 },
 "nbformat": 4,
 "nbformat_minor": 5
}
