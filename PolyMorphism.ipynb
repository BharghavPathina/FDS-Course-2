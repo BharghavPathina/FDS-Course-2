{
 "cells": [
  {
   "cell_type": "code",
   "execution_count": 1,
   "id": "b780dbcf",
   "metadata": {},
   "outputs": [
    {
     "name": "stdout",
     "output_type": "stream",
     "text": [
      "I am a Bird\n",
      "I am a flighing Bird\n"
     ]
    }
   ],
   "source": [
    "## Method Overriding Example\n",
    "\n",
    "class Bird:\n",
    "    def check(self):\n",
    "        print(\"I am a Bird\")\n",
    "class FlighingBird(Bird):\n",
    "    def check(self):\n",
    "        print(\"I am a flighing Bird\")\n",
    "\n",
    "bird = Bird()\n",
    "bird.check()\n",
    "\n",
    "flighingBird = FlighingBird()\n",
    "flighingBird.check()"
   ]
  },
  {
   "cell_type": "code",
   "execution_count": 2,
   "id": "ebcbdee1",
   "metadata": {},
   "outputs": [
    {
     "name": "stdout",
     "output_type": "stream",
     "text": [
      "I am a Bird\n",
      "I am a Bird\n"
     ]
    }
   ],
   "source": [
    "## SImple Single Inheritance\n",
    "class Bird:\n",
    "    def check(self):\n",
    "        print(\"I am a Bird\")\n",
    "class FlighingBird(Bird):\n",
    "    pass\n",
    "\n",
    "bird = Bird()\n",
    "bird.check()\n",
    "\n",
    "flighingBird = FlighingBird()\n",
    "flighingBird.check()"
   ]
  },
  {
   "cell_type": "code",
   "execution_count": 3,
   "id": "e78a7312",
   "metadata": {},
   "outputs": [
    {
     "name": "stdout",
     "output_type": "stream",
     "text": [
      "I am a Bird\n",
      "I am a flighing Bird\n"
     ]
    }
   ],
   "source": [
    "#Method Overriding\n",
    "class Bird:\n",
    "    def __init__(self):\n",
    "        self.type = \"Bird\"\n",
    "    def check(self):\n",
    "        print(f\"I am a {self.type}\")\n",
    "class FlighingBird(Bird):\n",
    "    def check(self):\n",
    "        print(\"I am a flighing Bird\")\n",
    "\n",
    "bird = Bird()\n",
    "bird.check()\n",
    "\n",
    "flighingBird = FlighingBird()\n",
    "flighingBird.check()"
   ]
  },
  {
   "cell_type": "code",
   "execution_count": 6,
   "id": "f3487fc2",
   "metadata": {},
   "outputs": [
    {
     "name": "stdout",
     "output_type": "stream",
     "text": [
      "I am a Bird\n",
      "I am a Bird\n"
     ]
    }
   ],
   "source": [
    "## Method Overriding\n",
    "class Bird:\n",
    "    def __init__(self):\n",
    "        self.type = \"Bird\"\n",
    "    def check(self):\n",
    "        print(f\"I am a {self.type}\")\n",
    "class FlighingBird(Bird):\n",
    "    def check(self):\n",
    "        print(f\"I am a {self.type}\")\n",
    "\n",
    "bird = Bird()\n",
    "bird.check()\n",
    "\n",
    "flighingBird = FlighingBird()\n",
    "flighingBird.check()"
   ]
  },
  {
   "cell_type": "code",
   "execution_count": 8,
   "id": "da7a9440",
   "metadata": {},
   "outputs": [
    {
     "name": "stdout",
     "output_type": "stream",
     "text": [
      "I am a Bird\n",
      "I am a bird\n"
     ]
    }
   ],
   "source": [
    "## Constructor Overriding\n",
    "## Method Overriding\n",
    "class Bird:\n",
    "    def __init__(self):\n",
    "        self.type = \"Bird\"\n",
    "    def check(self):\n",
    "        print(f\"I am a {self.type}\")\n",
    "class FlighingBird(Bird):\n",
    "    def __init__(self):\n",
    "        self.type = \"bird\"\n",
    "    def check(self):\n",
    "        print(f\"I am a {self.type}\")\n",
    "\n",
    "bird = Bird()\n",
    "bird.check()\n",
    "\n",
    "flighingBird = FlighingBird()\n",
    "flighingBird.check()"
   ]
  },
  {
   "cell_type": "code",
   "execution_count": 10,
   "id": "eb755605",
   "metadata": {},
   "outputs": [
    {
     "name": "stdout",
     "output_type": "stream",
     "text": [
      "I am a Bird\n",
      "I am a Flighing Bird\n",
      "I am In flighing bird and I am accessing property from Bird i.e. Value: None\n"
     ]
    }
   ],
   "source": [
    "class Bird:\n",
    "    value = None\n",
    "    def __init__(self):\n",
    "        self.type = \"Bird\"\n",
    "    def check(self):\n",
    "        print(f\"I am a {self.type}\")\n",
    "class FlighingBird(Bird):\n",
    "    def __init__(self):\n",
    "        self.type = \"Flighing Bird\"\n",
    "    def check(self):\n",
    "        print(f\"I am a {self.type}\")\n",
    "        print(f\"I am In flighing bird and I am accessing property from Bird i.e. Value: {self.value}\")\n",
    "\n",
    "class Human:\n",
    "    pass\n",
    "\n",
    "bird = Bird()\n",
    "bird.check()\n",
    "\n",
    "flighingBird = FlighingBird()\n",
    "flighingBird.check()"
   ]
  },
  {
   "cell_type": "code",
   "execution_count": 11,
   "id": "dc66a7e4",
   "metadata": {},
   "outputs": [
    {
     "name": "stdout",
     "output_type": "stream",
     "text": [
      "I am a Bird\n",
      "I am a CHECKKK\n",
      "I am In flighing bird and I am accessing property from Bird i.e. Value: Bird\n",
      "I am a CHECKKK\n",
      "I am In flighing bird and I am accessing property from Bird i.e. Value: Flighing Bird\n"
     ]
    }
   ],
   "source": [
    "class Bird:\n",
    "    value = \"CHECKKK\"\n",
    "    def __init__(self):\n",
    "        self.type = \"Bird\"\n",
    "    def check(self):\n",
    "        print(f\"I am a {self.type}\")\n",
    "        \n",
    "class FlighingBird(Bird):\n",
    "    def __init__(self):\n",
    "        super().__init__()\n",
    "        self.check()\n",
    "        self.type = \"Flighing Bird\"\n",
    "    def check(self):\n",
    "        print(f\"I am a {super().value}\")\n",
    "        print(f\"I am In flighing bird and I am accessing property from Bird i.e. Value: {self.type}\")\n",
    "\n",
    "bird = Bird()\n",
    "bird.check()\n",
    "\n",
    "flighingBird = FlighingBird()\n",
    "flighingBird.check()"
   ]
  },
  {
   "cell_type": "code",
   "execution_count": null,
   "id": "74574652",
   "metadata": {},
   "outputs": [],
   "source": []
  },
  {
   "cell_type": "code",
   "execution_count": null,
   "id": "4a83dd9b",
   "metadata": {},
   "outputs": [],
   "source": []
  },
  {
   "cell_type": "code",
   "execution_count": null,
   "id": "a0d6d500",
   "metadata": {},
   "outputs": [],
   "source": []
  },
  {
   "cell_type": "code",
   "execution_count": null,
   "id": "55df9c5a",
   "metadata": {},
   "outputs": [],
   "source": []
  },
  {
   "cell_type": "code",
   "execution_count": 12,
   "id": "56f3cb56",
   "metadata": {},
   "outputs": [],
   "source": [
    "def add(a,b):\n",
    "    return a+b\n",
    "def add(a,b,c):\n",
    "    return a+b+c"
   ]
  },
  {
   "cell_type": "code",
   "execution_count": 13,
   "id": "a8f87e7d",
   "metadata": {},
   "outputs": [
    {
     "ename": "TypeError",
     "evalue": "add() missing 1 required positional argument: 'c'",
     "output_type": "error",
     "traceback": [
      "\u001b[0;31m---------------------------------------------------------------------------\u001b[0m",
      "\u001b[0;31mTypeError\u001b[0m                                 Traceback (most recent call last)",
      "Cell \u001b[0;32mIn[13], line 1\u001b[0m\n\u001b[0;32m----> 1\u001b[0m \u001b[43madd\u001b[49m\u001b[43m(\u001b[49m\u001b[38;5;241;43m1\u001b[39;49m\u001b[43m,\u001b[49m\u001b[38;5;241;43m2\u001b[39;49m\u001b[43m)\u001b[49m\n",
      "\u001b[0;31mTypeError\u001b[0m: add() missing 1 required positional argument: 'c'"
     ]
    }
   ],
   "source": [
    "add(1,2)"
   ]
  },
  {
   "cell_type": "code",
   "execution_count": 14,
   "id": "c7753c43",
   "metadata": {},
   "outputs": [],
   "source": [
    "def add(*args):\n",
    "    sum_ = 0\n",
    "    for value in args:\n",
    "        sum_ = sum_+value\n",
    "    return sum_"
   ]
  },
  {
   "cell_type": "code",
   "execution_count": 15,
   "id": "24fe7fe9",
   "metadata": {},
   "outputs": [
    {
     "data": {
      "text/plain": [
       "3"
      ]
     },
     "execution_count": 15,
     "metadata": {},
     "output_type": "execute_result"
    }
   ],
   "source": [
    "add(1,2)"
   ]
  },
  {
   "cell_type": "code",
   "execution_count": 16,
   "id": "af857ed4",
   "metadata": {},
   "outputs": [
    {
     "data": {
      "text/plain": [
       "10"
      ]
     },
     "execution_count": 16,
     "metadata": {},
     "output_type": "execute_result"
    }
   ],
   "source": [
    "add(1,2,3,4)"
   ]
  },
  {
   "cell_type": "code",
   "execution_count": null,
   "id": "074605f2",
   "metadata": {},
   "outputs": [],
   "source": []
  },
  {
   "cell_type": "code",
   "execution_count": null,
   "id": "be1398ad",
   "metadata": {},
   "outputs": [],
   "source": []
  }
 ],
 "metadata": {
  "kernelspec": {
   "display_name": "Python 3 (ipykernel)",
   "language": "python",
   "name": "python3"
  },
  "language_info": {
   "codemirror_mode": {
    "name": "ipython",
    "version": 3
   },
   "file_extension": ".py",
   "mimetype": "text/x-python",
   "name": "python",
   "nbconvert_exporter": "python",
   "pygments_lexer": "ipython3",
   "version": "3.8.10"
  }
 },
 "nbformat": 4,
 "nbformat_minor": 5
}
