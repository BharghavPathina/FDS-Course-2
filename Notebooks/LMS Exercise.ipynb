{
 "cells": [
  {
   "cell_type": "code",
   "execution_count": 1,
   "id": "1b2ba5e8",
   "metadata": {},
   "outputs": [],
   "source": [
    "LMS = {}"
   ]
  },
  {
   "cell_type": "code",
   "execution_count": 2,
   "id": "8ea783f9",
   "metadata": {},
   "outputs": [
    {
     "data": {
      "text/plain": [
       "{}"
      ]
     },
     "execution_count": 2,
     "metadata": {},
     "output_type": "execute_result"
    }
   ],
   "source": [
    "LMS"
   ]
  },
  {
   "cell_type": "code",
   "execution_count": 3,
   "id": "a6c979ab",
   "metadata": {},
   "outputs": [],
   "source": [
    "LMS[\"USERS\"] = {}\n",
    "LMS[\"ADMINS\"] = {}"
   ]
  },
  {
   "cell_type": "code",
   "execution_count": 4,
   "id": "a0e174b0",
   "metadata": {},
   "outputs": [
    {
     "data": {
      "text/plain": [
       "{'USERS': {}, 'ADMINS': {}}"
      ]
     },
     "execution_count": 4,
     "metadata": {},
     "output_type": "execute_result"
    }
   ],
   "source": [
    "LMS"
   ]
  },
  {
   "cell_type": "code",
   "execution_count": 5,
   "id": "53f54b72",
   "metadata": {},
   "outputs": [
    {
     "data": {
      "text/plain": [
       "{'USERS': {'STUDENTS': {}, 'TEACHERS': {}}, 'ADMINS': {}}"
      ]
     },
     "execution_count": 5,
     "metadata": {},
     "output_type": "execute_result"
    }
   ],
   "source": [
    "LMS[\"USERS\"][\"STUDENTS\"] = {}\n",
    "LMS[\"USERS\"][\"TEACHERS\"] = {}\n",
    "LMS"
   ]
  },
  {
   "cell_type": "code",
   "execution_count": 6,
   "id": "b2fb91a3",
   "metadata": {},
   "outputs": [
    {
     "data": {
      "text/plain": [
       "{'USERS': {'STUDENTS': {'LOGIN': {}, 'STUDENT_MENU': {}, 'LOGOUT': {}},\n",
       "  'TEACHERS': {}},\n",
       " 'ADMINS': {}}"
      ]
     },
     "execution_count": 6,
     "metadata": {},
     "output_type": "execute_result"
    }
   ],
   "source": [
    "LMS[\"USERS\"][\"STUDENTS\"][\"LOGIN\"] = {}\n",
    "LMS[\"USERS\"][\"STUDENTS\"][\"STUDENT_MENU\"] = {}\n",
    "LMS[\"USERS\"][\"STUDENTS\"][\"LOGOUT\"] = {}\n",
    "LMS"
   ]
  },
  {
   "cell_type": "code",
   "execution_count": null,
   "id": "63b28fdc",
   "metadata": {},
   "outputs": [],
   "source": [
    "LMS[\"USERS\"][\"STUDENTS\"][\"STUDENT_MENU\"][\"BOOKS\"] = {}\n",
    "LMS[\"USERS\"][\"STUDENTS\"][\"STUDENT_MENU\"][\"ADMIN\"] = {}\n",
    "LMS[\"USERS\"][\"STUDENTS\"][\"STUDENT_MENU\"][\"BOOKS\"][\"FIRST\"] = {}\n",
    "LMS[\"USERS\"][\"STUDENTS\"][\"STUDENT_MENU\"][\"BOOKS\"][\"SECOND\"] = {}\n",
    "LMS[\"USERS\"][\"STUDENTS\"][\"STUDENT_MENU\"][\"BOOKS\"][\"THIRD\"] = {}\n",
    "LMS[\"USERS\"][\"STUDENTS\"][\"STUDENT_MENU\"][\"BOOKS\"][\"FOURTH\"] = {}\n",
    "LMS[\"USERS\"][\"STUDENTS\"][\"STUDENT_MENU\"][\"BOOKS\"][\"FIRST\"][\"MATHS\"] = {}\n",
    "LMS[\"USERS\"][\"STUDENTS\"][\"STUDENT_MENU\"][\"BOOKS\"][\"FIRST\"][\"CPROG\"] = {}\n",
    "LMS[\"USERS\"][\"STUDENTS\"][\"STUDENT_MENU\"][\"BOOKS\"][\"FIRST\"][\"DATASTRURES\"] = {}\n",
    "\n",
    "LMS[\"USERS\"][\"TEACHERS\"][\"LOGIN\"] = {}\n",
    "LMS[\"USERS\"][\"TEACHERS\"][\"TEACHER_MENU\"] = {}"
   ]
  }
 ],
 "metadata": {
  "kernelspec": {
   "display_name": "Python 3 (ipykernel)",
   "language": "python",
   "name": "python3"
  },
  "language_info": {
   "codemirror_mode": {
    "name": "ipython",
    "version": 3
   },
   "file_extension": ".py",
   "mimetype": "text/x-python",
   "name": "python",
   "nbconvert_exporter": "python",
   "pygments_lexer": "ipython3",
   "version": "3.8.10"
  }
 },
 "nbformat": 4,
 "nbformat_minor": 5
}
