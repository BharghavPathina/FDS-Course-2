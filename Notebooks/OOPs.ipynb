{
 "cells": [
  {
   "cell_type": "code",
   "execution_count": 13,
   "id": "c04f2cfb",
   "metadata": {},
   "outputs": [],
   "source": [
    "class SavingsAccount:\n",
    "\n",
    "    branchName = \"Warangal\"\n",
    "\n",
    "    def __init__(self,accountName=123,phoneNumber=123,balance=123,type=\"savings\") -> None: \n",
    "\n",
    "        self.__accountName = accountName\n",
    "        self.__accountNumber = \"123456789\"\n",
    "        self._accountPhoneNumber = phoneNumber\n",
    "        self.accountType = type\n",
    "        self.__balance = balance\n",
    "\n",
    "    def show_details(self):\n",
    "        print(\"Details of Account Holder:\")\n",
    "        print(f\"Name:{self.__accountName}\")\n",
    "        print(f\"Phone Number:{self._accountPhoneNumber}\")\n",
    "        print(f\"Account Type: {self.accountType}\")\n",
    "\n",
    "    def set_accountName(self,name):\n",
    "        self.__accountName = name\n",
    "\n",
    "    def get_accountName(self):\n",
    "        return self.__accountName"
   ]
  },
  {
   "cell_type": "code",
   "execution_count": 37,
   "id": "3f75daff",
   "metadata": {},
   "outputs": [],
   "source": [
    "obj.dfjvdufbdush = \"asbsdh\""
   ]
  },
  {
   "cell_type": "code",
   "execution_count": 24,
   "id": "73b4eb19",
   "metadata": {},
   "outputs": [],
   "source": [
    "obj.set_accountName(\"Tharun Kumar\")"
   ]
  },
  {
   "cell_type": "code",
   "execution_count": 28,
   "id": "030957dc",
   "metadata": {},
   "outputs": [],
   "source": [
    "obj.accountType = \"Credit\""
   ]
  },
  {
   "cell_type": "code",
   "execution_count": 14,
   "id": "8103b303",
   "metadata": {},
   "outputs": [],
   "source": [
    "obj = SavingsAccount(\"Tharun\",\"87595484232\",\"2500\")"
   ]
  },
  {
   "cell_type": "code",
   "execution_count": 32,
   "id": "54195f9c",
   "metadata": {},
   "outputs": [
    {
     "name": "stdout",
     "output_type": "stream",
     "text": [
      "Details of Account Holder:\n",
      "Name:Tharun Kumar\n",
      "Phone Number:87595484232\n",
      "Account Type: Credit\n"
     ]
    }
   ],
   "source": [
    "obj.show_details()"
   ]
  },
  {
   "cell_type": "code",
   "execution_count": 16,
   "id": "5bd71670",
   "metadata": {},
   "outputs": [
    {
     "name": "stdout",
     "output_type": "stream",
     "text": [
      "Warangal\n"
     ]
    }
   ],
   "source": [
    "print(obj.branchName)"
   ]
  },
  {
   "cell_type": "code",
   "execution_count": 17,
   "id": "cac59bc1",
   "metadata": {},
   "outputs": [],
   "source": [
    "obj1 = SavingsAccount(\"Sai\",\"5648451589\",\"2500\")"
   ]
  },
  {
   "cell_type": "code",
   "execution_count": 18,
   "id": "0c720bed",
   "metadata": {},
   "outputs": [
    {
     "name": "stdout",
     "output_type": "stream",
     "text": [
      "Details of Account Holder:\n",
      "Name:Sai\n",
      "Phone Number:5648451589\n",
      "Account Type: savings\n"
     ]
    }
   ],
   "source": [
    "obj1.show_details()"
   ]
  },
  {
   "cell_type": "code",
   "execution_count": 19,
   "id": "d609c77b",
   "metadata": {},
   "outputs": [
    {
     "name": "stdout",
     "output_type": "stream",
     "text": [
      "Warangal\n"
     ]
    }
   ],
   "source": [
    "print(obj1.branchName)"
   ]
  },
  {
   "cell_type": "code",
   "execution_count": null,
   "id": "f60547a1",
   "metadata": {},
   "outputs": [],
   "source": []
  }
 ],
 "metadata": {
  "kernelspec": {
   "display_name": "Python 3 (ipykernel)",
   "language": "python",
   "name": "python3"
  },
  "language_info": {
   "codemirror_mode": {
    "name": "ipython",
    "version": 3
   },
   "file_extension": ".py",
   "mimetype": "text/x-python",
   "name": "python",
   "nbconvert_exporter": "python",
   "pygments_lexer": "ipython3",
   "version": "3.8.10"
  }
 },
 "nbformat": 4,
 "nbformat_minor": 5
}
