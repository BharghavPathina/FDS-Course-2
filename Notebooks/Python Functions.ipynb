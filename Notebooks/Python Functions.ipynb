{
 "cells": [
  {
   "cell_type": "code",
   "execution_count": 1,
   "id": "f42eca4d",
   "metadata": {},
   "outputs": [
    {
     "data": {
      "text/plain": [
       "'\\n1. Function Definition\\n    1. def <functionName>(<parameters>):\\n            bvdfvbfd\\n            djfbsd\\n            sdjfbsd\\n2. Function Body\\n    1. FUnction Logic\\n    \\n3. Function Inputs -- Parameters/ Arguments/variables\\n    1. Positional Arguments\\n    2. Keyword Arguments\\n    3. Default Arguments\\n    4. Positional Only Arguments\\n    5. Keyword Only Arguments\\n    \\n4. Function Outputs\\n    1. Single Output at single time\\n    2. outputting at interval of times --- Generators\\n'"
      ]
     },
     "execution_count": 1,
     "metadata": {},
     "output_type": "execute_result"
    }
   ],
   "source": [
    "'''\n",
    "1. Function Definition\n",
    "    1. def <functionName>(<parameters>):\n",
    "            bvdfvbfd\n",
    "            djfbsd\n",
    "            sdjfbsd\n",
    "2. Function Body\n",
    "    1. FUnction Logic\n",
    "    \n",
    "3. Function Inputs -- Parameters/ Arguments/variables --- Optional / Requried\n",
    "    1. Positional Arguments\n",
    "    2. Keyword Arguments\n",
    "    3. Default Arguments\n",
    "    4. Positional Only Arguments\n",
    "    5. Keyword Only Arguments\n",
    "    6. Variable Arguments\n",
    "    7. Keyword Variable Arguments\n",
    "    \n",
    "4. Function Outputs\n",
    "    1. Single Output at single time\n",
    "    2. outputting at interval of times --- Generators\n",
    "'''"
   ]
  },
  {
   "cell_type": "code",
   "execution_count": 22,
   "id": "12231e15",
   "metadata": {},
   "outputs": [
    {
     "data": {
      "text/plain": [
       "5.0"
      ]
     },
     "execution_count": 22,
     "metadata": {},
     "output_type": "execute_result"
    }
   ],
   "source": [
    "import math\n",
    "math.sqrt(25)"
   ]
  },
  {
   "cell_type": "code",
   "execution_count": 23,
   "id": "f8d202c2",
   "metadata": {},
   "outputs": [],
   "source": [
    "def isPrime(number):\n",
    "    if number == 2:\n",
    "        print(\"2 is a prime number\")\n",
    "        return True\n",
    "    if number % 2 == 0:\n",
    "        print(\"It's Composite\")\n",
    "        return False\n",
    "    for i in range(3,number**0.5,2):\n",
    "        if number%i == 0:\n",
    "            print(\"Its Composite\")\n",
    "            return False\n",
    "    print(\"It's Prime\")\n",
    "    return True"
   ]
  },
  {
   "cell_type": "code",
   "execution_count": 39,
   "id": "e5fd95a8",
   "metadata": {},
   "outputs": [],
   "source": [
    "## RECURSION ---\n",
    "def factorial(number):\n",
    "    if number == 1 or number == 0:\n",
    "        return 1\n",
    "    else:\n",
    "        return number*factorial(number-1)"
   ]
  },
  {
   "cell_type": "code",
   "execution_count": 41,
   "id": "2d6123f0",
   "metadata": {},
   "outputs": [
    {
     "data": {
      "text/plain": [
       "24"
      ]
     },
     "execution_count": 41,
     "metadata": {},
     "output_type": "execute_result"
    }
   ],
   "source": [
    "factorial(4)"
   ]
  },
  {
   "cell_type": "code",
   "execution_count": 47,
   "id": "e9154d58",
   "metadata": {},
   "outputs": [],
   "source": [
    "def A(a,b,c,d):\n",
    "    print(f\"A:{a},B:{b},C:{c},D:{d}\")"
   ]
  },
  {
   "cell_type": "code",
   "execution_count": 44,
   "id": "a73075af",
   "metadata": {},
   "outputs": [],
   "source": [
    "# --- positional arguments & keyword arguments"
   ]
  },
  {
   "cell_type": "code",
   "execution_count": 50,
   "id": "52cfbdfe",
   "metadata": {},
   "outputs": [
    {
     "name": "stdout",
     "output_type": "stream",
     "text": [
      "A:3,B:1,C:2,D:5\n"
     ]
    }
   ],
   "source": [
    "A(3,1,2,5) ## Positional Argument"
   ]
  },
  {
   "cell_type": "code",
   "execution_count": 49,
   "id": "da14291b",
   "metadata": {},
   "outputs": [
    {
     "name": "stdout",
     "output_type": "stream",
     "text": [
      "A:9,B:5,C:4,D:1\n"
     ]
    }
   ],
   "source": [
    "A(d=1,b=5,c=4,a=9) ## Keyword Argumenting"
   ]
  },
  {
   "cell_type": "code",
   "execution_count": 51,
   "id": "2104798b",
   "metadata": {},
   "outputs": [],
   "source": [
    "# Default arguments can be given at function definition only\n",
    "\n",
    "def B(a,b,c=10):\n",
    "    print(f\"A:{a},B:{b},C:{c}\")"
   ]
  },
  {
   "cell_type": "code",
   "execution_count": 52,
   "id": "df412203",
   "metadata": {},
   "outputs": [
    {
     "name": "stdout",
     "output_type": "stream",
     "text": [
      "A:1,B:2,C:3\n"
     ]
    }
   ],
   "source": [
    "B(1,2,3)"
   ]
  },
  {
   "cell_type": "code",
   "execution_count": 53,
   "id": "846e0470",
   "metadata": {},
   "outputs": [
    {
     "name": "stdout",
     "output_type": "stream",
     "text": [
      "A:7,B:4,C:10\n"
     ]
    }
   ],
   "source": [
    "B(7,4)"
   ]
  },
  {
   "cell_type": "code",
   "execution_count": 54,
   "id": "1579b9f6",
   "metadata": {},
   "outputs": [],
   "source": [
    "# positional only arguments & keyword only arguments can be given at function definition only\n",
    "# /  and *\n",
    "# Positional only arguments ---- \n",
    "# Keyword only arguments -----"
   ]
  },
  {
   "cell_type": "code",
   "execution_count": 55,
   "id": "7ede07dc",
   "metadata": {},
   "outputs": [],
   "source": [
    "def D(a,b,/):\n",
    "    pass"
   ]
  },
  {
   "cell_type": "code",
   "execution_count": 56,
   "id": "f3906b3a",
   "metadata": {},
   "outputs": [],
   "source": [
    "D(1,2)"
   ]
  },
  {
   "cell_type": "code",
   "execution_count": 57,
   "id": "109363fa",
   "metadata": {},
   "outputs": [
    {
     "ename": "TypeError",
     "evalue": "D() got some positional-only arguments passed as keyword arguments: 'a, b'",
     "output_type": "error",
     "traceback": [
      "\u001b[0;31m---------------------------------------------------------------------------\u001b[0m",
      "\u001b[0;31mTypeError\u001b[0m                                 Traceback (most recent call last)",
      "Cell \u001b[0;32mIn[57], line 1\u001b[0m\n\u001b[0;32m----> 1\u001b[0m \u001b[43mD\u001b[49m\u001b[43m(\u001b[49m\u001b[43ma\u001b[49m\u001b[38;5;241;43m=\u001b[39;49m\u001b[38;5;241;43m10\u001b[39;49m\u001b[43m,\u001b[49m\u001b[43mb\u001b[49m\u001b[38;5;241;43m=\u001b[39;49m\u001b[38;5;241;43m5\u001b[39;49m\u001b[43m)\u001b[49m\n",
      "\u001b[0;31mTypeError\u001b[0m: D() got some positional-only arguments passed as keyword arguments: 'a, b'"
     ]
    }
   ],
   "source": [
    "D(a=10,b=5)"
   ]
  },
  {
   "cell_type": "code",
   "execution_count": 58,
   "id": "6c700e7e",
   "metadata": {},
   "outputs": [],
   "source": [
    "def F(*,a,b):\n",
    "    pass"
   ]
  },
  {
   "cell_type": "code",
   "execution_count": 59,
   "id": "290b6bb1",
   "metadata": {},
   "outputs": [
    {
     "ename": "TypeError",
     "evalue": "F() takes 0 positional arguments but 2 were given",
     "output_type": "error",
     "traceback": [
      "\u001b[0;31m---------------------------------------------------------------------------\u001b[0m",
      "\u001b[0;31mTypeError\u001b[0m                                 Traceback (most recent call last)",
      "Cell \u001b[0;32mIn[59], line 1\u001b[0m\n\u001b[0;32m----> 1\u001b[0m \u001b[43mF\u001b[49m\u001b[43m(\u001b[49m\u001b[38;5;241;43m1\u001b[39;49m\u001b[43m,\u001b[49m\u001b[38;5;241;43m2\u001b[39;49m\u001b[43m)\u001b[49m\n",
      "\u001b[0;31mTypeError\u001b[0m: F() takes 0 positional arguments but 2 were given"
     ]
    }
   ],
   "source": [
    "F(1,2)"
   ]
  },
  {
   "cell_type": "code",
   "execution_count": 60,
   "id": "89fe645a",
   "metadata": {},
   "outputs": [],
   "source": [
    "F(a=10,b=5)"
   ]
  },
  {
   "cell_type": "code",
   "execution_count": 61,
   "id": "a6ef7c2f",
   "metadata": {},
   "outputs": [],
   "source": [
    "def G(a,b,/,c,d):\n",
    "    pass"
   ]
  },
  {
   "cell_type": "code",
   "execution_count": 62,
   "id": "44627048",
   "metadata": {},
   "outputs": [],
   "source": [
    "G(1,2,3,4)"
   ]
  },
  {
   "cell_type": "code",
   "execution_count": 63,
   "id": "37ed6052",
   "metadata": {},
   "outputs": [
    {
     "ename": "TypeError",
     "evalue": "G() got some positional-only arguments passed as keyword arguments: 'b'",
     "output_type": "error",
     "traceback": [
      "\u001b[0;31m---------------------------------------------------------------------------\u001b[0m",
      "\u001b[0;31mTypeError\u001b[0m                                 Traceback (most recent call last)",
      "Cell \u001b[0;32mIn[63], line 1\u001b[0m\n\u001b[0;32m----> 1\u001b[0m \u001b[43mG\u001b[49m\u001b[43m(\u001b[49m\u001b[38;5;241;43m1\u001b[39;49m\u001b[43m,\u001b[49m\u001b[43mb\u001b[49m\u001b[38;5;241;43m=\u001b[39;49m\u001b[38;5;241;43m1\u001b[39;49m\u001b[43m,\u001b[49m\u001b[43mc\u001b[49m\u001b[38;5;241;43m=\u001b[39;49m\u001b[38;5;241;43m10\u001b[39;49m\u001b[43m,\u001b[49m\u001b[43md\u001b[49m\u001b[38;5;241;43m=\u001b[39;49m\u001b[38;5;241;43m5\u001b[39;49m\u001b[43m)\u001b[49m\n",
      "\u001b[0;31mTypeError\u001b[0m: G() got some positional-only arguments passed as keyword arguments: 'b'"
     ]
    }
   ],
   "source": [
    "G(1,b=1,c=10,d=5)"
   ]
  },
  {
   "cell_type": "code",
   "execution_count": 64,
   "id": "4f199dbc",
   "metadata": {},
   "outputs": [],
   "source": [
    "G(1,2,c=10,d=5)"
   ]
  },
  {
   "cell_type": "code",
   "execution_count": 70,
   "id": "79b6503f",
   "metadata": {},
   "outputs": [],
   "source": [
    "def H(a,b,/,*,c,d):\n",
    "    pass"
   ]
  },
  {
   "cell_type": "code",
   "execution_count": 72,
   "id": "4f3fba2b",
   "metadata": {},
   "outputs": [],
   "source": [
    "H(1,2,c=10,d=5)"
   ]
  },
  {
   "cell_type": "code",
   "execution_count": 73,
   "id": "87a0419c",
   "metadata": {},
   "outputs": [
    {
     "ename": "SyntaxError",
     "evalue": "non-default argument follows default argument (4244978853.py, line 1)",
     "output_type": "error",
     "traceback": [
      "\u001b[0;36m  Cell \u001b[0;32mIn[73], line 1\u001b[0;36m\u001b[0m\n\u001b[0;31m    def test(a=10,b,c):\u001b[0m\n\u001b[0m             ^\u001b[0m\n\u001b[0;31mSyntaxError\u001b[0m\u001b[0;31m:\u001b[0m non-default argument follows default argument\n"
     ]
    }
   ],
   "source": [
    "def test(a=10,b,c):  ### a is an optional argument and b,c required arguments\n",
    "    pass"
   ]
  },
  {
   "cell_type": "code",
   "execution_count": 74,
   "id": "edfb5838",
   "metadata": {},
   "outputs": [],
   "source": [
    "def test1(a,b,c=10):\n",
    "    pass"
   ]
  },
  {
   "cell_type": "code",
   "execution_count": 76,
   "id": "7798b526",
   "metadata": {},
   "outputs": [],
   "source": [
    "def test2(a,b,/,c,d,*,e,f):\n",
    "    pass"
   ]
  },
  {
   "cell_type": "code",
   "execution_count": 85,
   "id": "eddb3322",
   "metadata": {},
   "outputs": [],
   "source": [
    "def test2(a,b,/,*,n,c=10):\n",
    "    pass"
   ]
  },
  {
   "cell_type": "code",
   "execution_count": 86,
   "id": "89fb63a9",
   "metadata": {},
   "outputs": [],
   "source": [
    "test2(1,2,n=1)"
   ]
  },
  {
   "cell_type": "code",
   "execution_count": 81,
   "id": "83149571",
   "metadata": {},
   "outputs": [],
   "source": [
    "def J(a,b,c):\n",
    "    pass"
   ]
  },
  {
   "cell_type": "code",
   "execution_count": 83,
   "id": "f3ee38b8",
   "metadata": {},
   "outputs": [
    {
     "ename": "TypeError",
     "evalue": "J() missing 1 required positional argument: 'c'",
     "output_type": "error",
     "traceback": [
      "\u001b[0;31m---------------------------------------------------------------------------\u001b[0m",
      "\u001b[0;31mTypeError\u001b[0m                                 Traceback (most recent call last)",
      "Cell \u001b[0;32mIn[83], line 1\u001b[0m\n\u001b[0;32m----> 1\u001b[0m \u001b[43mJ\u001b[49m\u001b[43m(\u001b[49m\u001b[43ma\u001b[49m\u001b[38;5;241;43m=\u001b[39;49m\u001b[38;5;241;43m1\u001b[39;49m\u001b[43m,\u001b[49m\u001b[43mb\u001b[49m\u001b[38;5;241;43m=\u001b[39;49m\u001b[38;5;241;43m2\u001b[39;49m\u001b[43m)\u001b[49m\n",
      "\u001b[0;31mTypeError\u001b[0m: J() missing 1 required positional argument: 'c'"
     ]
    }
   ],
   "source": [
    "J(a=1,b=2)"
   ]
  },
  {
   "cell_type": "code",
   "execution_count": 88,
   "id": "7ba1d31d",
   "metadata": {},
   "outputs": [],
   "source": [
    "def hsgd(*,a,b):\n",
    "    print(a,b)"
   ]
  },
  {
   "cell_type": "code",
   "execution_count": 90,
   "id": "21c77baa",
   "metadata": {},
   "outputs": [
    {
     "name": "stdout",
     "output_type": "stream",
     "text": [
      "10 10\n"
     ]
    }
   ],
   "source": [
    "hsgd(a=10,b=10)"
   ]
  },
  {
   "cell_type": "code",
   "execution_count": 1,
   "id": "2828c45a",
   "metadata": {},
   "outputs": [
    {
     "data": {
      "text/plain": [
       "'\\n1. Lambda\\n2. Map\\n3. Filter\\n'"
      ]
     },
     "execution_count": 1,
     "metadata": {},
     "output_type": "execute_result"
    }
   ],
   "source": [
    "'''\n",
    "1. Lambda\n",
    "2. Map\n",
    "3. Filter\n",
    "'''"
   ]
  },
  {
   "cell_type": "code",
   "execution_count": 2,
   "id": "01e662d6",
   "metadata": {},
   "outputs": [],
   "source": [
    "def add(a,b,c,d):\n",
    "    return a+b+c+d"
   ]
  },
  {
   "cell_type": "code",
   "execution_count": null,
   "id": "a3fc877a",
   "metadata": {},
   "outputs": [],
   "source": [
    "'''\n",
    "Lambda:\n",
    "Multiple Inputs & Single Output\n",
    "Anonymous function\n",
    "Little Performance Improvements\n",
    "'''"
   ]
  },
  {
   "cell_type": "code",
   "execution_count": 3,
   "id": "f4394022",
   "metadata": {},
   "outputs": [],
   "source": [
    "addLambda = lambda a,b,c,d:a+b+c+d"
   ]
  },
  {
   "cell_type": "code",
   "execution_count": 4,
   "id": "785fca19",
   "metadata": {},
   "outputs": [
    {
     "data": {
      "text/plain": [
       "<function __main__.<lambda>(a, b, c, d)>"
      ]
     },
     "execution_count": 4,
     "metadata": {},
     "output_type": "execute_result"
    }
   ],
   "source": [
    "addLambda"
   ]
  },
  {
   "cell_type": "code",
   "execution_count": 5,
   "id": "70e7d305",
   "metadata": {},
   "outputs": [
    {
     "data": {
      "text/plain": [
       "10"
      ]
     },
     "execution_count": 5,
     "metadata": {},
     "output_type": "execute_result"
    }
   ],
   "source": [
    "addLambda(1,2,3,4)"
   ]
  },
  {
   "cell_type": "code",
   "execution_count": 6,
   "id": "1bc1ab9e",
   "metadata": {},
   "outputs": [
    {
     "data": {
      "text/plain": [
       "14"
      ]
     },
     "execution_count": 6,
     "metadata": {},
     "output_type": "execute_result"
    }
   ],
   "source": [
    "addLambda(2,3,4,5)"
   ]
  },
  {
   "cell_type": "code",
   "execution_count": 7,
   "id": "045972b0",
   "metadata": {},
   "outputs": [
    {
     "ename": "TypeError",
     "evalue": "<lambda>() missing 2 required positional arguments: 'c' and 'd'",
     "output_type": "error",
     "traceback": [
      "\u001b[0;31m---------------------------------------------------------------------------\u001b[0m",
      "\u001b[0;31mTypeError\u001b[0m                                 Traceback (most recent call last)",
      "Cell \u001b[0;32mIn[7], line 1\u001b[0m\n\u001b[0;32m----> 1\u001b[0m \u001b[43maddLambda\u001b[49m\u001b[43m(\u001b[49m\u001b[38;5;241;43m2\u001b[39;49m\u001b[43m,\u001b[49m\u001b[38;5;241;43m3\u001b[39;49m\u001b[43m)\u001b[49m\n",
      "\u001b[0;31mTypeError\u001b[0m: <lambda>() missing 2 required positional arguments: 'c' and 'd'"
     ]
    }
   ],
   "source": [
    "addLambda(2,3)"
   ]
  },
  {
   "cell_type": "code",
   "execution_count": 56,
   "id": "c1148638",
   "metadata": {},
   "outputs": [],
   "source": [
    "from functools import reduce"
   ]
  },
  {
   "cell_type": "code",
   "execution_count": 58,
   "id": "7d5b52a9",
   "metadata": {},
   "outputs": [],
   "source": [
    "addReduce = reduce(lambda x,y:x+y,L)"
   ]
  },
  {
   "cell_type": "code",
   "execution_count": 60,
   "id": "a3a452af",
   "metadata": {},
   "outputs": [
    {
     "data": {
      "text/plain": [
       "55"
      ]
     },
     "execution_count": 60,
     "metadata": {},
     "output_type": "execute_result"
    }
   ],
   "source": [
    "addReduce"
   ]
  },
  {
   "cell_type": "code",
   "execution_count": 8,
   "id": "508fb952",
   "metadata": {},
   "outputs": [],
   "source": [
    "from itertools import accumulate"
   ]
  },
  {
   "cell_type": "code",
   "execution_count": 57,
   "id": "d3b3e475",
   "metadata": {},
   "outputs": [],
   "source": [
    "L = [1,2,3,4,5,6,7,8,9,10]"
   ]
  },
  {
   "cell_type": "code",
   "execution_count": 31,
   "id": "51fa6cd9",
   "metadata": {},
   "outputs": [],
   "source": [
    "addAccumulate = accumulate(L,lambda x,y:x+y)"
   ]
  },
  {
   "cell_type": "code",
   "execution_count": 32,
   "id": "d0b95ee1",
   "metadata": {},
   "outputs": [
    {
     "data": {
      "text/plain": [
       "[1, 3, 6, 10, 15, 21, 28, 36, 45, 55]"
      ]
     },
     "execution_count": 32,
     "metadata": {},
     "output_type": "execute_result"
    }
   ],
   "source": [
    "list(addAccumulate)"
   ]
  },
  {
   "cell_type": "code",
   "execution_count": 40,
   "id": "0bb87ceb",
   "metadata": {},
   "outputs": [],
   "source": [
    "def addNumbers(a,b,c,*args):\n",
    "    print(args)"
   ]
  },
  {
   "cell_type": "code",
   "execution_count": 41,
   "id": "f8eb7b30",
   "metadata": {},
   "outputs": [
    {
     "ename": "TypeError",
     "evalue": "addNumbers() missing 3 required positional arguments: 'a', 'b', and 'c'",
     "output_type": "error",
     "traceback": [
      "\u001b[0;31m---------------------------------------------------------------------------\u001b[0m",
      "\u001b[0;31mTypeError\u001b[0m                                 Traceback (most recent call last)",
      "Cell \u001b[0;32mIn[41], line 1\u001b[0m\n\u001b[0;32m----> 1\u001b[0m \u001b[43maddNumbers\u001b[49m\u001b[43m(\u001b[49m\u001b[43m)\u001b[49m\n",
      "\u001b[0;31mTypeError\u001b[0m: addNumbers() missing 3 required positional arguments: 'a', 'b', and 'c'"
     ]
    }
   ],
   "source": [
    "addNumbers()"
   ]
  },
  {
   "cell_type": "code",
   "execution_count": 36,
   "id": "53add177",
   "metadata": {},
   "outputs": [
    {
     "name": "stdout",
     "output_type": "stream",
     "text": [
      "('Thar', 'un', 1, 2)\n"
     ]
    }
   ],
   "source": [
    "addNumbers(\"Thar\",\"un\",1,2)"
   ]
  },
  {
   "cell_type": "code",
   "execution_count": 38,
   "id": "94591f39",
   "metadata": {},
   "outputs": [],
   "source": [
    "def test(**kargs):\n",
    "    print(kargs)"
   ]
  },
  {
   "cell_type": "code",
   "execution_count": 39,
   "id": "66300662",
   "metadata": {},
   "outputs": [
    {
     "name": "stdout",
     "output_type": "stream",
     "text": [
      "{'name': 'Tharun', 'prof': 'Software'}\n"
     ]
    }
   ],
   "source": [
    "test(name=\"Tharun\",prof=\"Software\")"
   ]
  },
  {
   "cell_type": "code",
   "execution_count": 42,
   "id": "83c6d7a9",
   "metadata": {},
   "outputs": [
    {
     "data": {
      "text/plain": [
       "'\\ny = x+2\\ny = f(x)\\n\\nX -- list of values\\nf(X) --- Mapping function\\n\\nY --- map the mapping function to the X\\n\\n'"
      ]
     },
     "execution_count": 42,
     "metadata": {},
     "output_type": "execute_result"
    }
   ],
   "source": [
    "'''\n",
    "y = x+2\n",
    "y = f(x)\n",
    "\n",
    "X -- list of values\n",
    "f(X) --- Mapping function\n",
    "\n",
    "Y --- map the mapping function to the X\n",
    "\n",
    "'''"
   ]
  },
  {
   "cell_type": "code",
   "execution_count": null,
   "id": "080a05e0",
   "metadata": {},
   "outputs": [],
   "source": [
    "# y = 2x"
   ]
  },
  {
   "cell_type": "code",
   "execution_count": 43,
   "id": "5ff873bd",
   "metadata": {},
   "outputs": [],
   "source": [
    "#y = map(f(x),x)"
   ]
  },
  {
   "cell_type": "code",
   "execution_count": 44,
   "id": "3d2c613e",
   "metadata": {},
   "outputs": [],
   "source": [
    "def mappingFunction(x):\n",
    "    return 2*x"
   ]
  },
  {
   "cell_type": "code",
   "execution_count": 45,
   "id": "8e62cf2c",
   "metadata": {},
   "outputs": [],
   "source": [
    "L = [1,2,3,4]"
   ]
  },
  {
   "cell_type": "code",
   "execution_count": 61,
   "id": "aa161e26",
   "metadata": {},
   "outputs": [],
   "source": [
    "y = map(lambda x:2*x,L)"
   ]
  },
  {
   "cell_type": "code",
   "execution_count": 62,
   "id": "1a809246",
   "metadata": {},
   "outputs": [
    {
     "data": {
      "text/plain": [
       "<map at 0x7f657c0542b0>"
      ]
     },
     "execution_count": 62,
     "metadata": {},
     "output_type": "execute_result"
    }
   ],
   "source": [
    "y"
   ]
  },
  {
   "cell_type": "code",
   "execution_count": 49,
   "id": "6e71f8ba",
   "metadata": {},
   "outputs": [
    {
     "data": {
      "text/plain": [
       "[2, 4, 6, 8]"
      ]
     },
     "execution_count": 49,
     "metadata": {},
     "output_type": "execute_result"
    }
   ],
   "source": [
    "list(y)"
   ]
  },
  {
   "cell_type": "code",
   "execution_count": 50,
   "id": "d8b60cb0",
   "metadata": {},
   "outputs": [],
   "source": [
    "# y = filter(f(x),X)"
   ]
  },
  {
   "cell_type": "code",
   "execution_count": 51,
   "id": "0a66b8f0",
   "metadata": {},
   "outputs": [],
   "source": [
    "def even(x):\n",
    "    if x%2 == 0:\n",
    "        return True\n",
    "    else:\n",
    "        return False"
   ]
  },
  {
   "cell_type": "code",
   "execution_count": 52,
   "id": "6403a511",
   "metadata": {},
   "outputs": [],
   "source": [
    "X = [1,2,3,4,5,6,7,8,9,10]"
   ]
  },
  {
   "cell_type": "code",
   "execution_count": 55,
   "id": "b76136cc",
   "metadata": {},
   "outputs": [
    {
     "data": {
      "text/plain": [
       "[2, 4, 6, 8, 10]"
      ]
     },
     "execution_count": 55,
     "metadata": {},
     "output_type": "execute_result"
    }
   ],
   "source": [
    "Y = filter(lambda x:x%2==0,X)\n",
    "list(Y)"
   ]
  },
  {
   "cell_type": "code",
   "execution_count": null,
   "id": "a0368ba3",
   "metadata": {},
   "outputs": [],
   "source": []
  },
  {
   "cell_type": "code",
   "execution_count": null,
   "id": "0dacc1a8",
   "metadata": {},
   "outputs": [],
   "source": []
  },
  {
   "cell_type": "code",
   "execution_count": null,
   "id": "0b32fd3f",
   "metadata": {},
   "outputs": [],
   "source": []
  },
  {
   "cell_type": "code",
   "execution_count": null,
   "id": "2c54c0ea",
   "metadata": {},
   "outputs": [],
   "source": []
  },
  {
   "cell_type": "code",
   "execution_count": 22,
   "id": "cea3cf10",
   "metadata": {},
   "outputs": [
    {
     "data": {
      "text/plain": [
       "[1]"
      ]
     },
     "execution_count": 22,
     "metadata": {},
     "output_type": "execute_result"
    }
   ],
   "source": [
    "list(addAccumulate)"
   ]
  },
  {
   "cell_type": "code",
   "execution_count": null,
   "id": "f648fb29",
   "metadata": {},
   "outputs": [],
   "source": [
    "## Register Access --> Cache Access ---> Memory Access ---> Disk Access"
   ]
  },
  {
   "cell_type": "code",
   "execution_count": 1,
   "id": "53b596ca",
   "metadata": {},
   "outputs": [],
   "source": [
    "import time"
   ]
  },
  {
   "cell_type": "code",
   "execution_count": 10,
   "id": "81f4f2a8",
   "metadata": {},
   "outputs": [],
   "source": [
    "def timeComplexity(func):\n",
    "    def getParams(*args,**kargs):\n",
    "        #### LOGIC ####\n",
    "        first = time.time()\n",
    "        print(\"Before Function....!\")\n",
    "        value = func(*args, **kargs)\n",
    "        second = time.time()\n",
    "        print(\"After Function...!\")\n",
    "        latency = second-first\n",
    "        print(f\"Latency is {latency}\")\n",
    "    return getParams"
   ]
  },
  {
   "cell_type": "code",
   "execution_count": 27,
   "id": "97d908df",
   "metadata": {},
   "outputs": [],
   "source": [
    "@timeComplexity\n",
    "def greetings():\n",
    "#     @timeComplexity\n",
    "    def abcd():\n",
    "        pass\n",
    "    abcd()\n",
    "    print(\"I am a Greeting Function\")"
   ]
  },
  {
   "cell_type": "code",
   "execution_count": 28,
   "id": "4df6d068",
   "metadata": {},
   "outputs": [
    {
     "name": "stdout",
     "output_type": "stream",
     "text": [
      "Before Function....!\n",
      "I am a Greeting Function\n",
      "After Function...!\n",
      "Latency is 0.0052607059478759766\n"
     ]
    }
   ],
   "source": [
    "greetings()"
   ]
  },
  {
   "cell_type": "code",
   "execution_count": 22,
   "id": "5721afc7",
   "metadata": {},
   "outputs": [
    {
     "ename": "NameError",
     "evalue": "name 'abcd' is not defined",
     "output_type": "error",
     "traceback": [
      "\u001b[0;31m---------------------------------------------------------------------------\u001b[0m",
      "\u001b[0;31mNameError\u001b[0m                                 Traceback (most recent call last)",
      "Cell \u001b[0;32mIn[22], line 1\u001b[0m\n\u001b[0;32m----> 1\u001b[0m \u001b[43mabcd\u001b[49m()\n",
      "\u001b[0;31mNameError\u001b[0m: name 'abcd' is not defined"
     ]
    }
   ],
   "source": [
    "abcd()"
   ]
  },
  {
   "cell_type": "code",
   "execution_count": 29,
   "id": "01d8b36d",
   "metadata": {},
   "outputs": [],
   "source": [
    "def generateEven(L):\n",
    "    for i in L:\n",
    "        if i % 2 == 0:\n",
    "            yield i"
   ]
  },
  {
   "cell_type": "code",
   "execution_count": 31,
   "id": "09a719a1",
   "metadata": {},
   "outputs": [
    {
     "data": {
      "text/plain": [
       "[12, 6, 8]"
      ]
     },
     "execution_count": 31,
     "metadata": {},
     "output_type": "execute_result"
    }
   ],
   "source": [
    "list(generateEven([12,3,5,6,7,8]))"
   ]
  },
  {
   "cell_type": "code",
   "execution_count": null,
   "id": "a5162562",
   "metadata": {},
   "outputs": [],
   "source": []
  },
  {
   "cell_type": "code",
   "execution_count": 32,
   "id": "424c5e5c",
   "metadata": {},
   "outputs": [],
   "source": [
    "import json"
   ]
  },
  {
   "cell_type": "code",
   "execution_count": 38,
   "id": "cb61fa31",
   "metadata": {},
   "outputs": [],
   "source": [
    "students = [{\"name\":\"Sai\",\"Age\":25,\"isStudent\":True},{\"name\":\"venkat\",\"age\":25,\"isStudent\":False}]"
   ]
  },
  {
   "cell_type": "code",
   "execution_count": 46,
   "id": "0e420ee9",
   "metadata": {},
   "outputs": [
    {
     "data": {
      "text/plain": [
       "[{'name': 'Sai', 'Age': 25, 'isStudent': True},\n",
       " {'name': 'venkat', 'age': 25, 'isStudent': False}]"
      ]
     },
     "execution_count": 46,
     "metadata": {},
     "output_type": "execute_result"
    }
   ],
   "source": [
    "students"
   ]
  },
  {
   "cell_type": "code",
   "execution_count": 50,
   "id": "8b337517",
   "metadata": {},
   "outputs": [],
   "source": [
    "file = open(\"sample.json\",\"w\")"
   ]
  },
  {
   "cell_type": "code",
   "execution_count": 51,
   "id": "0a8cb9ec",
   "metadata": {},
   "outputs": [],
   "source": [
    "json.dump(students,file)"
   ]
  },
  {
   "cell_type": "code",
   "execution_count": 52,
   "id": "eb977e90",
   "metadata": {},
   "outputs": [],
   "source": [
    "file.close()"
   ]
  },
  {
   "cell_type": "code",
   "execution_count": 67,
   "id": "13e89b15",
   "metadata": {},
   "outputs": [],
   "source": [
    "file = open(\"sample.txt\",\"w\")"
   ]
  },
  {
   "cell_type": "code",
   "execution_count": 70,
   "id": "8b3b88f6",
   "metadata": {},
   "outputs": [
    {
     "data": {
      "text/plain": [
       "98"
      ]
     },
     "execution_count": 70,
     "metadata": {},
     "output_type": "execute_result"
    }
   ],
   "source": [
    "file.write(str(students))"
   ]
  },
  {
   "cell_type": "code",
   "execution_count": 71,
   "id": "8daf0e8f",
   "metadata": {},
   "outputs": [],
   "source": [
    "file.close()"
   ]
  },
  {
   "cell_type": "code",
   "execution_count": 66,
   "id": "54f3fa0f",
   "metadata": {},
   "outputs": [
    {
     "ename": "FileNotFoundError",
     "evalue": "[Errno 2] No such file or directory: 'sample1.json'",
     "output_type": "error",
     "traceback": [
      "\u001b[0;31m---------------------------------------------------------------------------\u001b[0m",
      "\u001b[0;31mFileNotFoundError\u001b[0m                         Traceback (most recent call last)",
      "Cell \u001b[0;32mIn[66], line 1\u001b[0m\n\u001b[0;32m----> 1\u001b[0m file \u001b[38;5;241m=\u001b[39m \u001b[38;5;28;43mopen\u001b[39;49m\u001b[43m(\u001b[49m\u001b[38;5;124;43m\"\u001b[39;49m\u001b[38;5;124;43msample1.json\u001b[39;49m\u001b[38;5;124;43m\"\u001b[39;49m\u001b[43m,\u001b[49m\u001b[38;5;124;43m\"\u001b[39;49m\u001b[38;5;124;43mr\u001b[39;49m\u001b[38;5;124;43m\"\u001b[39;49m\u001b[43m)\u001b[49m\n",
      "File \u001b[0;32m~/CodinGrad/FDS-Course-2/env/lib/python3.8/site-packages/IPython/core/interactiveshell.py:282\u001b[0m, in \u001b[0;36m_modified_open\u001b[0;34m(file, *args, **kwargs)\u001b[0m\n\u001b[1;32m    275\u001b[0m \u001b[38;5;28;01mif\u001b[39;00m file \u001b[38;5;129;01min\u001b[39;00m {\u001b[38;5;241m0\u001b[39m, \u001b[38;5;241m1\u001b[39m, \u001b[38;5;241m2\u001b[39m}:\n\u001b[1;32m    276\u001b[0m     \u001b[38;5;28;01mraise\u001b[39;00m \u001b[38;5;167;01mValueError\u001b[39;00m(\n\u001b[1;32m    277\u001b[0m         \u001b[38;5;124mf\u001b[39m\u001b[38;5;124m\"\u001b[39m\u001b[38;5;124mIPython won\u001b[39m\u001b[38;5;124m'\u001b[39m\u001b[38;5;124mt let you open fd=\u001b[39m\u001b[38;5;132;01m{\u001b[39;00mfile\u001b[38;5;132;01m}\u001b[39;00m\u001b[38;5;124m by default \u001b[39m\u001b[38;5;124m\"\u001b[39m\n\u001b[1;32m    278\u001b[0m         \u001b[38;5;124m\"\u001b[39m\u001b[38;5;124mas it is likely to crash IPython. If you know what you are doing, \u001b[39m\u001b[38;5;124m\"\u001b[39m\n\u001b[1;32m    279\u001b[0m         \u001b[38;5;124m\"\u001b[39m\u001b[38;5;124myou can use builtins\u001b[39m\u001b[38;5;124m'\u001b[39m\u001b[38;5;124m open.\u001b[39m\u001b[38;5;124m\"\u001b[39m\n\u001b[1;32m    280\u001b[0m     )\n\u001b[0;32m--> 282\u001b[0m \u001b[38;5;28;01mreturn\u001b[39;00m \u001b[43mio_open\u001b[49m\u001b[43m(\u001b[49m\u001b[43mfile\u001b[49m\u001b[43m,\u001b[49m\u001b[43m \u001b[49m\u001b[38;5;241;43m*\u001b[39;49m\u001b[43margs\u001b[49m\u001b[43m,\u001b[49m\u001b[43m \u001b[49m\u001b[38;5;241;43m*\u001b[39;49m\u001b[38;5;241;43m*\u001b[39;49m\u001b[43mkwargs\u001b[49m\u001b[43m)\u001b[49m\n",
      "\u001b[0;31mFileNotFoundError\u001b[0m: [Errno 2] No such file or directory: 'sample1.json'"
     ]
    }
   ],
   "source": [
    "try:\n",
    "    file = open(\"sample1.json\",\"r\")\n",
    "except:\n",
    "    print(\"There is a problem..!\")\n",
    "finally:\n",
    "    file.close()\n",
    "else:\n",
    "    pass\n",
    "    ## else will be executed if tehre is no error."
   ]
  },
  {
   "cell_type": "code",
   "execution_count": 55,
   "id": "2d09dd19",
   "metadata": {},
   "outputs": [],
   "source": [
    "data = json.load(file)"
   ]
  },
  {
   "cell_type": "code",
   "execution_count": 56,
   "id": "f3cd45f1",
   "metadata": {},
   "outputs": [
    {
     "data": {
      "text/plain": [
       "[{'name': 'Sai', 'Age': 25, 'isStudent': True},\n",
       " {'name': 'venkat', 'age': 25, 'isStudent': False}]"
      ]
     },
     "execution_count": 56,
     "metadata": {},
     "output_type": "execute_result"
    }
   ],
   "source": [
    "data"
   ]
  },
  {
   "cell_type": "code",
   "execution_count": 57,
   "id": "02e13ffc",
   "metadata": {},
   "outputs": [
    {
     "data": {
      "text/plain": [
       "list"
      ]
     },
     "execution_count": 57,
     "metadata": {},
     "output_type": "execute_result"
    }
   ],
   "source": [
    "type(data)"
   ]
  },
  {
   "cell_type": "code",
   "execution_count": 58,
   "id": "730c48ee",
   "metadata": {},
   "outputs": [],
   "source": [
    "file.close()"
   ]
  },
  {
   "cell_type": "code",
   "execution_count": 59,
   "id": "5eec17a9",
   "metadata": {},
   "outputs": [],
   "source": [
    "file = open(\"sample.txt\",\"r\")"
   ]
  },
  {
   "cell_type": "code",
   "execution_count": 60,
   "id": "e578c0dd",
   "metadata": {},
   "outputs": [],
   "source": [
    "dat = file.read()"
   ]
  },
  {
   "cell_type": "code",
   "execution_count": 61,
   "id": "fbb4a743",
   "metadata": {},
   "outputs": [
    {
     "data": {
      "text/plain": [
       "\"[{'name': 'Sai', 'Age': 25, 'isStudent': True}, {'name': 'venkat', 'age': 25, 'isStudent': False}]\""
      ]
     },
     "execution_count": 61,
     "metadata": {},
     "output_type": "execute_result"
    }
   ],
   "source": [
    "dat"
   ]
  },
  {
   "cell_type": "code",
   "execution_count": 63,
   "id": "2a056f2c",
   "metadata": {},
   "outputs": [],
   "source": [
    "dictData = dat.split(\",\")"
   ]
  },
  {
   "cell_type": "code",
   "execution_count": 65,
   "id": "7516f517",
   "metadata": {},
   "outputs": [
    {
     "data": {
      "text/plain": [
       "['[',\n",
       " '{',\n",
       " \"'\",\n",
       " 'n',\n",
       " 'a',\n",
       " 'm',\n",
       " 'e',\n",
       " \"'\",\n",
       " ':',\n",
       " ' ',\n",
       " \"'\",\n",
       " 'S',\n",
       " 'a',\n",
       " 'i',\n",
       " \"'\",\n",
       " ',',\n",
       " ' ',\n",
       " \"'\",\n",
       " 'A',\n",
       " 'g',\n",
       " 'e',\n",
       " \"'\",\n",
       " ':',\n",
       " ' ',\n",
       " '2',\n",
       " '5',\n",
       " ',',\n",
       " ' ',\n",
       " \"'\",\n",
       " 'i',\n",
       " 's',\n",
       " 'S',\n",
       " 't',\n",
       " 'u',\n",
       " 'd',\n",
       " 'e',\n",
       " 'n',\n",
       " 't',\n",
       " \"'\",\n",
       " ':',\n",
       " ' ',\n",
       " 'T',\n",
       " 'r',\n",
       " 'u',\n",
       " 'e',\n",
       " '}',\n",
       " ',',\n",
       " ' ',\n",
       " '{',\n",
       " \"'\",\n",
       " 'n',\n",
       " 'a',\n",
       " 'm',\n",
       " 'e',\n",
       " \"'\",\n",
       " ':',\n",
       " ' ',\n",
       " \"'\",\n",
       " 'v',\n",
       " 'e',\n",
       " 'n',\n",
       " 'k',\n",
       " 'a',\n",
       " 't',\n",
       " \"'\",\n",
       " ',',\n",
       " ' ',\n",
       " \"'\",\n",
       " 'a',\n",
       " 'g',\n",
       " 'e',\n",
       " \"'\",\n",
       " ':',\n",
       " ' ',\n",
       " '2',\n",
       " '5',\n",
       " ',',\n",
       " ' ',\n",
       " \"'\",\n",
       " 'i',\n",
       " 's',\n",
       " 'S',\n",
       " 't',\n",
       " 'u',\n",
       " 'd',\n",
       " 'e',\n",
       " 'n',\n",
       " 't',\n",
       " \"'\",\n",
       " ':',\n",
       " ' ',\n",
       " 'F',\n",
       " 'a',\n",
       " 'l',\n",
       " 's',\n",
       " 'e',\n",
       " '}',\n",
       " ']']"
      ]
     },
     "execution_count": 65,
     "metadata": {},
     "output_type": "execute_result"
    }
   ],
   "source": [
    "dictData"
   ]
  },
  {
   "cell_type": "code",
   "execution_count": null,
   "id": "c1ba8809",
   "metadata": {},
   "outputs": [],
   "source": []
  }
 ],
 "metadata": {
  "kernelspec": {
   "display_name": "Python 3 (ipykernel)",
   "language": "python",
   "name": "python3"
  },
  "language_info": {
   "codemirror_mode": {
    "name": "ipython",
    "version": 3
   },
   "file_extension": ".py",
   "mimetype": "text/x-python",
   "name": "python",
   "nbconvert_exporter": "python",
   "pygments_lexer": "ipython3",
   "version": "3.8.10"
  }
 },
 "nbformat": 4,
 "nbformat_minor": 5
}
